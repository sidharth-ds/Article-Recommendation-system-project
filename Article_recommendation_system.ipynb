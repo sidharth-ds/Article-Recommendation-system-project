{
  "nbformat": 4,
  "nbformat_minor": 0,
  "metadata": {
    "colab": {
      "name": "Article recommendation system.ipynb",
      "provenance": [],
      "collapsed_sections": [],
      "authorship_tag": "ABX9TyNbHia5pi4j0uNZBoRPIzL3",
      "include_colab_link": true
    },
    "kernelspec": {
      "name": "python3",
      "display_name": "Python 3"
    },
    "language_info": {
      "name": "python"
    }
  },
  "cells": [
    {
      "cell_type": "markdown",
      "metadata": {
        "id": "view-in-github",
        "colab_type": "text"
      },
      "source": [
        "<a href=\"https://colab.research.google.com/github/sidharth-ds/Article-Recommendation-system-project/blob/main/Article_recommendation_system.ipynb\" target=\"_parent\"><img src=\"https://colab.research.google.com/assets/colab-badge.svg\" alt=\"Open In Colab\"/></a>"
      ]
    },
    {
      "cell_type": "code",
      "execution_count": null,
      "metadata": {
        "id": "5SB5MFnEzORH"
      },
      "outputs": [],
      "source": [
        "import pandas as pd\n",
        "import numpy as np\n",
        "from sklearn.feature_extraction import text\n",
        "from sklearn.metrics.pairwise import cosine_similarity  # Text Similarity Metric"
      ]
    },
    {
      "cell_type": "code",
      "source": [
        "data = pd.read_csv(\"/content/articles.csv\", encoding='latin1')\n",
        "data.head()"
      ],
      "metadata": {
        "colab": {
          "base_uri": "https://localhost:8080/",
          "height": 206
        },
        "id": "qvFRE93SzRVX",
        "outputId": "72aea80f-0ceb-4523-f02c-63f11e569462"
      },
      "execution_count": null,
      "outputs": [
        {
          "output_type": "execute_result",
          "data": {
            "text/plain": [
              "                                             Article  \\\n",
              "0  Data analysis is the process of inspecting and...   \n",
              "1  The performance of a machine learning algorith...   \n",
              "2  You must have seen the news divided into categ...   \n",
              "3  When there are only two classes in a classific...   \n",
              "4  The Multinomial Naive Bayes is one of the vari...   \n",
              "\n",
              "                                               Title  \n",
              "0                  Best Books to Learn Data Analysis  \n",
              "1         Assumptions of Machine Learning Algorithms  \n",
              "2          News Classification with Machine Learning  \n",
              "3  Multiclass Classification Algorithms in Machin...  \n",
              "4        Multinomial Naive Bayes in Machine Learning  "
            ],
            "text/html": [
              "\n",
              "  <div id=\"df-a2ae7322-1bd1-4821-aa5d-2f22ad65e573\">\n",
              "    <div class=\"colab-df-container\">\n",
              "      <div>\n",
              "<style scoped>\n",
              "    .dataframe tbody tr th:only-of-type {\n",
              "        vertical-align: middle;\n",
              "    }\n",
              "\n",
              "    .dataframe tbody tr th {\n",
              "        vertical-align: top;\n",
              "    }\n",
              "\n",
              "    .dataframe thead th {\n",
              "        text-align: right;\n",
              "    }\n",
              "</style>\n",
              "<table border=\"1\" class=\"dataframe\">\n",
              "  <thead>\n",
              "    <tr style=\"text-align: right;\">\n",
              "      <th></th>\n",
              "      <th>Article</th>\n",
              "      <th>Title</th>\n",
              "    </tr>\n",
              "  </thead>\n",
              "  <tbody>\n",
              "    <tr>\n",
              "      <th>0</th>\n",
              "      <td>Data analysis is the process of inspecting and...</td>\n",
              "      <td>Best Books to Learn Data Analysis</td>\n",
              "    </tr>\n",
              "    <tr>\n",
              "      <th>1</th>\n",
              "      <td>The performance of a machine learning algorith...</td>\n",
              "      <td>Assumptions of Machine Learning Algorithms</td>\n",
              "    </tr>\n",
              "    <tr>\n",
              "      <th>2</th>\n",
              "      <td>You must have seen the news divided into categ...</td>\n",
              "      <td>News Classification with Machine Learning</td>\n",
              "    </tr>\n",
              "    <tr>\n",
              "      <th>3</th>\n",
              "      <td>When there are only two classes in a classific...</td>\n",
              "      <td>Multiclass Classification Algorithms in Machin...</td>\n",
              "    </tr>\n",
              "    <tr>\n",
              "      <th>4</th>\n",
              "      <td>The Multinomial Naive Bayes is one of the vari...</td>\n",
              "      <td>Multinomial Naive Bayes in Machine Learning</td>\n",
              "    </tr>\n",
              "  </tbody>\n",
              "</table>\n",
              "</div>\n",
              "      <button class=\"colab-df-convert\" onclick=\"convertToInteractive('df-a2ae7322-1bd1-4821-aa5d-2f22ad65e573')\"\n",
              "              title=\"Convert this dataframe to an interactive table.\"\n",
              "              style=\"display:none;\">\n",
              "        \n",
              "  <svg xmlns=\"http://www.w3.org/2000/svg\" height=\"24px\"viewBox=\"0 0 24 24\"\n",
              "       width=\"24px\">\n",
              "    <path d=\"M0 0h24v24H0V0z\" fill=\"none\"/>\n",
              "    <path d=\"M18.56 5.44l.94 2.06.94-2.06 2.06-.94-2.06-.94-.94-2.06-.94 2.06-2.06.94zm-11 1L8.5 8.5l.94-2.06 2.06-.94-2.06-.94L8.5 2.5l-.94 2.06-2.06.94zm10 10l.94 2.06.94-2.06 2.06-.94-2.06-.94-.94-2.06-.94 2.06-2.06.94z\"/><path d=\"M17.41 7.96l-1.37-1.37c-.4-.4-.92-.59-1.43-.59-.52 0-1.04.2-1.43.59L10.3 9.45l-7.72 7.72c-.78.78-.78 2.05 0 2.83L4 21.41c.39.39.9.59 1.41.59.51 0 1.02-.2 1.41-.59l7.78-7.78 2.81-2.81c.8-.78.8-2.07 0-2.86zM5.41 20L4 18.59l7.72-7.72 1.47 1.35L5.41 20z\"/>\n",
              "  </svg>\n",
              "      </button>\n",
              "      \n",
              "  <style>\n",
              "    .colab-df-container {\n",
              "      display:flex;\n",
              "      flex-wrap:wrap;\n",
              "      gap: 12px;\n",
              "    }\n",
              "\n",
              "    .colab-df-convert {\n",
              "      background-color: #E8F0FE;\n",
              "      border: none;\n",
              "      border-radius: 50%;\n",
              "      cursor: pointer;\n",
              "      display: none;\n",
              "      fill: #1967D2;\n",
              "      height: 32px;\n",
              "      padding: 0 0 0 0;\n",
              "      width: 32px;\n",
              "    }\n",
              "\n",
              "    .colab-df-convert:hover {\n",
              "      background-color: #E2EBFA;\n",
              "      box-shadow: 0px 1px 2px rgba(60, 64, 67, 0.3), 0px 1px 3px 1px rgba(60, 64, 67, 0.15);\n",
              "      fill: #174EA6;\n",
              "    }\n",
              "\n",
              "    [theme=dark] .colab-df-convert {\n",
              "      background-color: #3B4455;\n",
              "      fill: #D2E3FC;\n",
              "    }\n",
              "\n",
              "    [theme=dark] .colab-df-convert:hover {\n",
              "      background-color: #434B5C;\n",
              "      box-shadow: 0px 1px 3px 1px rgba(0, 0, 0, 0.15);\n",
              "      filter: drop-shadow(0px 1px 2px rgba(0, 0, 0, 0.3));\n",
              "      fill: #FFFFFF;\n",
              "    }\n",
              "  </style>\n",
              "\n",
              "      <script>\n",
              "        const buttonEl =\n",
              "          document.querySelector('#df-a2ae7322-1bd1-4821-aa5d-2f22ad65e573 button.colab-df-convert');\n",
              "        buttonEl.style.display =\n",
              "          google.colab.kernel.accessAllowed ? 'block' : 'none';\n",
              "\n",
              "        async function convertToInteractive(key) {\n",
              "          const element = document.querySelector('#df-a2ae7322-1bd1-4821-aa5d-2f22ad65e573');\n",
              "          const dataTable =\n",
              "            await google.colab.kernel.invokeFunction('convertToInteractive',\n",
              "                                                     [key], {});\n",
              "          if (!dataTable) return;\n",
              "\n",
              "          const docLinkHtml = 'Like what you see? Visit the ' +\n",
              "            '<a target=\"_blank\" href=https://colab.research.google.com/notebooks/data_table.ipynb>data table notebook</a>'\n",
              "            + ' to learn more about interactive tables.';\n",
              "          element.innerHTML = '';\n",
              "          dataTable['output_type'] = 'display_data';\n",
              "          await google.colab.output.renderOutput(dataTable, element);\n",
              "          const docLink = document.createElement('div');\n",
              "          docLink.innerHTML = docLinkHtml;\n",
              "          element.appendChild(docLink);\n",
              "        }\n",
              "      </script>\n",
              "    </div>\n",
              "  </div>\n",
              "  "
            ]
          },
          "metadata": {},
          "execution_count": 2
        }
      ]
    },
    {
      "cell_type": "markdown",
      "source": [
        "TEXT SIMILARITY has to determine how the two text documents close to each other in terms of their context or meaning.\n",
        "  * There are various text similarity metric exist such as Cosine similarity, Euclidean distance and Jaccard Similarity.\n",
        "  * The common way to compute the Cosine similarity is to first we need to count the word occurrence in each document. To count the word occurrence in each document, we can use CountVectorizer or TfidfVectorizer functions that are provided by Scikit-Learn library.\n",
        "  * cosine similarity values -- 0: less similar, 1: more similar\n"
      ],
      "metadata": {
        "id": "4vSl-8qQAwdp"
      }
    },
    {
      "cell_type": "code",
      "source": [
        "articles = data[\"Article\"].tolist()\n",
        "articles"
      ],
      "metadata": {
        "colab": {
          "base_uri": "https://localhost:8080/"
        },
        "id": "Jci2YqhYzRXs",
        "outputId": "b29c5cee-910e-4f5c-b16e-aefd05dc0d62"
      },
      "execution_count": null,
      "outputs": [
        {
          "output_type": "execute_result",
          "data": {
            "text/plain": [
              "['Data analysis is the process of inspecting and exploring data generated by a particular population to find the information needed to make decisions and draw conclusions. With the use of data in decision making, most businesses today need data analysts. So, if you want to know about the best books to learn data analysis, this article is for you. In this article, I will introduce you to some of the best books to learn data analysis.',\n",
              " 'The performance of a machine learning algorithm on a particular dataset often depends on whether the features of the dataset satisfies the assumptions of that machine learning algorithm. Not all machine learning algorithms have assumptions that differentiate them from each other. So, in this article, I will take you through the assumptions of machine learning algorithms.',\n",
              " \"You must have seen the news divided into categories when you go to a news website. Some of the popular categories that you'll see on almost any news website are tech, entertainment, and sports. If you want to know how to classify news categories using machine learning, this article is for you. In this article, I will walk you through the task of news classification with machine learning using Python.\",\n",
              " 'When there are only two classes in a classification problem, this is the problem of binary classification, just like that, classification with more than two classes is called multiclass classification. If you want to know the best machine learning algorithms for multiclass classification, this article is for you. In this article, I will introduce you to some of the best multiclass classification algorithms in machine learning.',\n",
              " 'The Multinomial Naive Bayes is one of the variants of the Naive Bayes algorithm in machine learning. It is very useful when the data is distributed in a multinomial way. This algorithm is especially preferred in classification tasks based on natural language processing. Spam detection is one of the applications where this algorithm can be used. If you have never used the Multinomial Naive Bayes algorithm before, this article is for you. In this article, I will take you through an introduction to the Multinomial Naive Bayes algorithm in machine learning and its implementation using Python.',\n",
              " \"You must have seen the news divided into categories when you go to a news website. Some of the popular categories that you'll see on almost any news website are tech, entertainment, and sports. If you want to know how to classify news categories using machine learning, this article is for you. In this article, I will walk you through the task of news classification with machine learning using Python.\",\n",
              " 'Natural language processing or NLP is a subfield of artificial intelligence where we build applications to interact with humans. One of the examples of NLP applications is a chatbot which is used by so many websites to solve some of the common issues people face when taking their services. So, if you are looking for some of the best books for learning NLP, this article is for you. In this article, I will introduce you to the best books for learning NLP.',\n",
              " 'By using a third-party application or API to manage the functionality of an application, you are automating the application. If you send messages, post photos or videos, or follow someone without opening your Instagram directly, that means you are automating Instagram. So, if you want to learn how to send Instagram messages automatically using Python, this article is for you. In this article, I will present a tutorial on how to send Instagram messages using Python.',\n",
              " 'Twitter is one of the most popular social media apps where people are free to share their opinions on any topic. There are so many tweets recorded about Pfizer vaccine awareness that can be used to analyze the sentiments of people about the Pfizer vaccine. So, if you want to learn how to use a Twitter dataset for sentiment analysis, this article is for you. In this article, I will walk you through the task of Pfizer vaccine sentiment analysis using Python.',\n",
              " 'The squid game is currently one of the most trending shows on NetFlix. It is so much trending that people who have never watched any web series before are also watching it. One of the reasons behind this is the reviews and opinions of viewers on social media. So if you want to learn how to analyze the sentiments of people about Squid Game, then this article is for you. In this article, I will take you through the task of Squid Game sentiment analysis using Python.',\n",
              " 'Computer Vision is one of the fields of Artificial Intelligence that enables a computer to find meaningful information from digital images, videos and other visual sources of data. The Face ID found in iPhones is one of the best examples of the applications of computer vision. If you are looking for the best books to learn computer vision, this article is for you. In this article, I will take you through some of the best books to learn computer vision.',\n",
              " \"Python is one of the most popular programming languages today. It is preferred by data scientists and web developers and is currently used by companies like Google, Netflix, Facebook, Uber, Goldman Sachs, Paypal, and many more. There is a great demand for data science professionals today, and Python is one of the most important skills any data scientist should have. So, if you are looking for the best resources to learn Python, this article is for you. In this article, I'm going to introduce you to some of the best resources for learning the Python programming language.\",\n",
              " 'API stands for Application Programming Interface, it is a way to connect computers or computer programs. Simply put, you can think of it as software that helps in the development of other software. Many companies are looking for API developers today, so if you want to become an API developer, you need to educate yourself about API development. Python has many frameworks for building APIs, if you want to know about the best Python frameworks to build APIs, this article is for you. In this article, I will introduce you to the best Python frameworks to build APIs.',\n",
              " 'A voice recorder is found in every smartphone and computer today. It is an application that is used to record sound and save it in a specific file format, which can be listened to and transferred to another device. If you want to know how to make a voice recorder using Python, this article is for you. In this article, I will walk you through how to make a voice recorder using Python.',\n",
              " 'Language detection is a natural language processing task where we need to identify the language of a text or document. Using machine learning for language detection was a difficult task a few years ago because there was not a lot of data on languages, but with the availability of data with ease, several powerful machine learning models are already available for language detection. So, if you want to learn how to train a machine learning model for language detection, then this article is for you. In this article, I will walk you through the task of language detection with machine learning using Python.',\n",
              " 'A Multilayer Perceptron or MLP is one of the simplest feed-forward neural networks. Multilayer Perceptrons are the types of neural networks which are bidirectional as they foreword propagation of the inputs and backward propagation of the weights. If you want to learn about Multiplayer Perceptron in machine learning, then this article is for you. In this article, I will take you through an introduction to Multilayer Perceptron and its implementation using Python.',\n",
              " \"A neural network is a subset of machine learning that mimics the workings of a human brain while solving a complex problem based on deep learning. Neural networks are inspired by neurons found in the human brain. In this article, I'm going to introduce you to the types of neural networks you need to know as a Data Scientist.\",\n",
              " 'Clustering is the task of identifying similar instances based on similar features and assigning them to clusters based on similar instances. It sounds like classification where each insurance is also assigned to a group, but unlike classification, clustering is based on unsupervised learning. Here the dataset you deal with doesn?t have labels, so we cannot use a classification algorithm on a dataset without labels, this is where clustering algorithms comes in. If you want to learn all the clustering algorithms that you should know about as a data scientist, this article is for you. In this article, I will take you through an introduction to all clustering algorithms in machine learning.',\n",
              " \"Dictionaries are one of the most useful data structures in the Python programming language. A Python dictionary is used to store data in the form of key and value pairs. Most Python newbies get confused when iterating through a dictionary because the data is stored in key and value pairs. So if you want to learn how to use a for loop on the keys and values of a Python dictionary, this article is for you. In this article, I'll show you a tutorial on using a for loop on keys and values in a Python dictionary.\",\n",
              " 'Health Insurance is a type of insurance that covers medical expenses. A person who has taken a health insurance policy gets health insurance cover by paying a particular premium amount. There are a lot of factors that determine the premium of health insurance. So if you want to learn how we can use machine learning for predicting the premium of health insurance, then this article is for you. In this article, I will take you through the task of health insurance premium prediction with machine learning using Python.',\n",
              " \"The mean shift algorithm is a nonparametric clustering algorithm that does not require prior knowledge of the number of clusters. If you've never used the Mean Shift clustering algorithm, this article is for you. In this article, I'll take you through an introduction to Mean Shift clustering in Machine Learning and its implementation using Python.\",\n",
              " 'The BIRCH is a Clustering algorithm in machine learning. It stands for Balanced Reducing and Clustering using Hierarchies. In this article, I will take you through the concept of BIRCH Clustering in Machine Learning and its implementation using Python.',\n",
              " \"Agglomerative clustering is based on hierarchical clustering which is used to form a hierarchy of clusters. It is one of the types of clustering algorithms in machine learning. Unlike the K-Means and DBSCAN clustering algorithms, it is not very common but it is very efficient to form a hierarchy of clusters. If you've never used the agglomerative clustering algorithm before, this article is for you. In this article, I'll give you an introduction to agglomerative clustering in machine learning and its implementation using Python.\",\n",
              " 'DBSCAN stands for Density-Based Spatial Clustering for Applications with Noise. This is an unsupervised clustering algorithm that is used to find high-density base samples to extend the clusters. In this article, I will introduce you to DBSCAN clustering in Machine Learning using Python.',\n",
              " 'The K-Means Clustering is a clustering algorithm capable of clustering an unlabeled dataset quickly and efficiently in just a very few iterations. In this article, I will take you through the K-Means clustering in machine learning using Python.',\n",
              " 'A scatter plot is one of the most useful ways to analyze the relationship between two features. You must have used a scatter plot before if you are learning data science but have you ever tried to create an animated scatter plot using Python? If you want to learn how to visualize an animated scatter plot, this article is for you. In this article, I will take you through a tutorial on visualizing animated scatter plot using Python.',\n",
              " \"Recently, we have seen an increase of more than 10 per cent in the stock price of Tata Motors. This has resulted in more attention to Tata Group stocks from all over India. But again today, we are witnessing a fall in the prices of Tata Motors' shares, which can be a negative signal for investors. So, if you want to learn how to analyze and predict the Tata Motors stock price, this article is for you. In this article, I will walk you through the task of Tata Motors stock price prediction with machine learning using Python.\",\n",
              " 'Apple has just announced the date of its September event when it is about to launch the new iPhone 13. It is currently the centre of attention on the stock market. Stock market analysis is one of the popular applications of machine learning because we can predict stock prices using machine learning. So if you want to learn how to predict the stock prices of Apple with machine learning, this article is for you. In this article, I will walk you through the task of Apple stock price prediction with machine learning using Python.',\n",
              " 'Deep learning is a subset of machine learning in which we use artificial neural networks to train models to solve complex problems where we need a large amount of data compared to other machine learning algorithms. If you want to become a machine learning engineer, you must learn deep learning. So, if you are looking for the best books for learning deep learning, this article is for you. In this article, I will introduce you to some of the best books to learn deep learning.',\n",
              " 'Many machine learning algorithms can be used to solve complex problems that require a large amount of data with a large number of features, but deep learning can outperform all algorithms. So to understand where we can use deep learning techniques, in this article, I will introduce you to the applications of deep learning.',\n",
              " \"Almost every app or website you visit today shows you what may interest you the most. For example, if you've been using YouTube for a long time, you must have seen content from your favourite creators or the type of videos you like to watch every time you visit YouTube. It is nothing more than a recommendation system. Recommendation systems are one of the most widely used applications in data science, and as a data scientist, you should know everything about recommender systems. In this article, I will therefore give you an introduction to recommendation systems in data science.\",\n",
              " 'There are so many algorithms in machine learning that you need to learn. Understanding the use cases of every machine learning algorithm is very difficult for every data science beginner, but it is very important as it helps you to choose the most suitable algorithm for your problem. So if you want to learn about the use cases of different machine learning algorithms, then this article is for you. In this article, I will take you through the use cases of some of the popular machine learning algorithms.',\n",
              " \"In machine learning, the Naive Bayes algorithm is based on Bayes' theorem with na\\x8bve assumptions. This makes it easier to train a model by assuming that the features are independent of each other. In this article, I will give you an introduction to the Naive Bayes algorithm in Machine Learning and its implementation using Python.\",\n",
              " \"Swapping elements of a Python list is very similar to swapping values of the variables in Python. We use the index of the items to swap the position of the items, just like variables in Python. So if you want to learn how to swap the position of items in a Python list, this article is for you. In this article, I'll show you a tutorial on how to swap items in a Python list.\"]"
            ]
          },
          "metadata": {},
          "execution_count": 3
        }
      ]
    },
    {
      "cell_type": "code",
      "source": [
        "# Convert a collection of raw documents to a matrix of TF-IDF features\n",
        "vectorization = text.TfidfVectorizer(input=articles, stop_words=\"english\")\n",
        "\n",
        "# followed by TfidfTransformer.\n",
        "X = vectorization.fit_transform(articles)\n",
        "X"
      ],
      "metadata": {
        "colab": {
          "base_uri": "https://localhost:8080/"
        },
        "id": "1mzAa4Nt-zhw",
        "outputId": "55550b94-241d-4317-95f0-4900c395b7b0"
      },
      "execution_count": null,
      "outputs": [
        {
          "output_type": "execute_result",
          "data": {
            "text/plain": [
              "<34x407 sparse matrix of type '<class 'numpy.float64'>'\n",
              "\twith 846 stored elements in Compressed Sparse Row format>"
            ]
          },
          "metadata": {},
          "execution_count": 15
        }
      ]
    },
    {
      "cell_type": "code",
      "source": [
        "# applying cosine similarity\n",
        "cos_sim = cosine_similarity(X)\n",
        "cos_sim"
      ],
      "metadata": {
        "colab": {
          "base_uri": "https://localhost:8080/"
        },
        "id": "nueBewiTA3fG",
        "outputId": "8cae3b44-ab40-462f-8cb7-8bdf8f2822e4"
      },
      "execution_count": null,
      "outputs": [
        {
          "output_type": "execute_result",
          "data": {
            "text/plain": [
              "array([[1.        , 0.02858003, 0.02014231, ..., 0.12022323, 0.00455773,\n",
              "        0.02511323],\n",
              "       [0.02858003, 1.        , 0.07651482, ..., 0.30365338, 0.27795728,\n",
              "        0.00383369],\n",
              "       [0.02014231, 0.07651482, 1.        , ..., 0.08401534, 0.05252305,\n",
              "        0.03233971],\n",
              "       ...,\n",
              "       [0.12022323, 0.30365338, 0.08401534, ..., 1.        , 0.12620279,\n",
              "        0.04275628],\n",
              "       [0.00455773, 0.27795728, 0.05252305, ..., 0.12620279, 1.        ,\n",
              "        0.02113943],\n",
              "       [0.02511323, 0.00383369, 0.03233971, ..., 0.04275628, 0.02113943,\n",
              "        1.        ]])"
            ]
          },
          "metadata": {},
          "execution_count": 5
        }
      ]
    },
    {
      "cell_type": "markdown",
      "source": [
        "### creating a recommendation column:"
      ],
      "metadata": {
        "id": "XqPKN9c8KA3e"
      }
    },
    {
      "cell_type": "code",
      "source": [
        "def recommend_articles(x):\n",
        "    top_4 = x.argsort()[-5:-1]    #  argsort returns the indices of sorted array  # chooses top 4 more correlated (closer to 1)\n",
        "    return \", \".join(data[\"Title\"].loc[top_4])     \n",
        "        \n",
        "data[\"Recommended Articles\"] = [recommend_articles(x) for x in cos_sim]\n",
        "data.head()"
      ],
      "metadata": {
        "colab": {
          "base_uri": "https://localhost:8080/",
          "height": 206
        },
        "id": "qBKlvhIOCNt4",
        "outputId": "0841122e-deed-4680-fe16-47695e306def"
      },
      "execution_count": null,
      "outputs": [
        {
          "output_type": "execute_result",
          "data": {
            "text/plain": [
              "                                             Article  \\\n",
              "0  Data analysis is the process of inspecting and...   \n",
              "1  The performance of a machine learning algorith...   \n",
              "2  You must have seen the news divided into categ...   \n",
              "3  When there are only two classes in a classific...   \n",
              "4  The Multinomial Naive Bayes is one of the vari...   \n",
              "\n",
              "                                               Title  \\\n",
              "0                  Best Books to Learn Data Analysis   \n",
              "1         Assumptions of Machine Learning Algorithms   \n",
              "2          News Classification with Machine Learning   \n",
              "3  Multiclass Classification Algorithms in Machin...   \n",
              "4        Multinomial Naive Bayes in Machine Learning   \n",
              "\n",
              "                                Recommended Articles  \n",
              "0  Introduction to Recommendation Systems, Best B...  \n",
              "1  Applications of Deep Learning, Best Books to L...  \n",
              "2  Language Detection with Machine Learning, Appl...  \n",
              "3  Assumptions of Machine Learning Algorithms, Be...  \n",
              "4  Assumptions of Machine Learning Algorithms, Me...  "
            ],
            "text/html": [
              "\n",
              "  <div id=\"df-4ff1f8ce-457e-4831-a4fb-6199db86bb03\">\n",
              "    <div class=\"colab-df-container\">\n",
              "      <div>\n",
              "<style scoped>\n",
              "    .dataframe tbody tr th:only-of-type {\n",
              "        vertical-align: middle;\n",
              "    }\n",
              "\n",
              "    .dataframe tbody tr th {\n",
              "        vertical-align: top;\n",
              "    }\n",
              "\n",
              "    .dataframe thead th {\n",
              "        text-align: right;\n",
              "    }\n",
              "</style>\n",
              "<table border=\"1\" class=\"dataframe\">\n",
              "  <thead>\n",
              "    <tr style=\"text-align: right;\">\n",
              "      <th></th>\n",
              "      <th>Article</th>\n",
              "      <th>Title</th>\n",
              "      <th>Recommended Articles</th>\n",
              "    </tr>\n",
              "  </thead>\n",
              "  <tbody>\n",
              "    <tr>\n",
              "      <th>0</th>\n",
              "      <td>Data analysis is the process of inspecting and...</td>\n",
              "      <td>Best Books to Learn Data Analysis</td>\n",
              "      <td>Introduction to Recommendation Systems, Best B...</td>\n",
              "    </tr>\n",
              "    <tr>\n",
              "      <th>1</th>\n",
              "      <td>The performance of a machine learning algorith...</td>\n",
              "      <td>Assumptions of Machine Learning Algorithms</td>\n",
              "      <td>Applications of Deep Learning, Best Books to L...</td>\n",
              "    </tr>\n",
              "    <tr>\n",
              "      <th>2</th>\n",
              "      <td>You must have seen the news divided into categ...</td>\n",
              "      <td>News Classification with Machine Learning</td>\n",
              "      <td>Language Detection with Machine Learning, Appl...</td>\n",
              "    </tr>\n",
              "    <tr>\n",
              "      <th>3</th>\n",
              "      <td>When there are only two classes in a classific...</td>\n",
              "      <td>Multiclass Classification Algorithms in Machin...</td>\n",
              "      <td>Assumptions of Machine Learning Algorithms, Be...</td>\n",
              "    </tr>\n",
              "    <tr>\n",
              "      <th>4</th>\n",
              "      <td>The Multinomial Naive Bayes is one of the vari...</td>\n",
              "      <td>Multinomial Naive Bayes in Machine Learning</td>\n",
              "      <td>Assumptions of Machine Learning Algorithms, Me...</td>\n",
              "    </tr>\n",
              "  </tbody>\n",
              "</table>\n",
              "</div>\n",
              "      <button class=\"colab-df-convert\" onclick=\"convertToInteractive('df-4ff1f8ce-457e-4831-a4fb-6199db86bb03')\"\n",
              "              title=\"Convert this dataframe to an interactive table.\"\n",
              "              style=\"display:none;\">\n",
              "        \n",
              "  <svg xmlns=\"http://www.w3.org/2000/svg\" height=\"24px\"viewBox=\"0 0 24 24\"\n",
              "       width=\"24px\">\n",
              "    <path d=\"M0 0h24v24H0V0z\" fill=\"none\"/>\n",
              "    <path d=\"M18.56 5.44l.94 2.06.94-2.06 2.06-.94-2.06-.94-.94-2.06-.94 2.06-2.06.94zm-11 1L8.5 8.5l.94-2.06 2.06-.94-2.06-.94L8.5 2.5l-.94 2.06-2.06.94zm10 10l.94 2.06.94-2.06 2.06-.94-2.06-.94-.94-2.06-.94 2.06-2.06.94z\"/><path d=\"M17.41 7.96l-1.37-1.37c-.4-.4-.92-.59-1.43-.59-.52 0-1.04.2-1.43.59L10.3 9.45l-7.72 7.72c-.78.78-.78 2.05 0 2.83L4 21.41c.39.39.9.59 1.41.59.51 0 1.02-.2 1.41-.59l7.78-7.78 2.81-2.81c.8-.78.8-2.07 0-2.86zM5.41 20L4 18.59l7.72-7.72 1.47 1.35L5.41 20z\"/>\n",
              "  </svg>\n",
              "      </button>\n",
              "      \n",
              "  <style>\n",
              "    .colab-df-container {\n",
              "      display:flex;\n",
              "      flex-wrap:wrap;\n",
              "      gap: 12px;\n",
              "    }\n",
              "\n",
              "    .colab-df-convert {\n",
              "      background-color: #E8F0FE;\n",
              "      border: none;\n",
              "      border-radius: 50%;\n",
              "      cursor: pointer;\n",
              "      display: none;\n",
              "      fill: #1967D2;\n",
              "      height: 32px;\n",
              "      padding: 0 0 0 0;\n",
              "      width: 32px;\n",
              "    }\n",
              "\n",
              "    .colab-df-convert:hover {\n",
              "      background-color: #E2EBFA;\n",
              "      box-shadow: 0px 1px 2px rgba(60, 64, 67, 0.3), 0px 1px 3px 1px rgba(60, 64, 67, 0.15);\n",
              "      fill: #174EA6;\n",
              "    }\n",
              "\n",
              "    [theme=dark] .colab-df-convert {\n",
              "      background-color: #3B4455;\n",
              "      fill: #D2E3FC;\n",
              "    }\n",
              "\n",
              "    [theme=dark] .colab-df-convert:hover {\n",
              "      background-color: #434B5C;\n",
              "      box-shadow: 0px 1px 3px 1px rgba(0, 0, 0, 0.15);\n",
              "      filter: drop-shadow(0px 1px 2px rgba(0, 0, 0, 0.3));\n",
              "      fill: #FFFFFF;\n",
              "    }\n",
              "  </style>\n",
              "\n",
              "      <script>\n",
              "        const buttonEl =\n",
              "          document.querySelector('#df-4ff1f8ce-457e-4831-a4fb-6199db86bb03 button.colab-df-convert');\n",
              "        buttonEl.style.display =\n",
              "          google.colab.kernel.accessAllowed ? 'block' : 'none';\n",
              "\n",
              "        async function convertToInteractive(key) {\n",
              "          const element = document.querySelector('#df-4ff1f8ce-457e-4831-a4fb-6199db86bb03');\n",
              "          const dataTable =\n",
              "            await google.colab.kernel.invokeFunction('convertToInteractive',\n",
              "                                                     [key], {});\n",
              "          if (!dataTable) return;\n",
              "\n",
              "          const docLinkHtml = 'Like what you see? Visit the ' +\n",
              "            '<a target=\"_blank\" href=https://colab.research.google.com/notebooks/data_table.ipynb>data table notebook</a>'\n",
              "            + ' to learn more about interactive tables.';\n",
              "          element.innerHTML = '';\n",
              "          dataTable['output_type'] = 'display_data';\n",
              "          await google.colab.output.renderOutput(dataTable, element);\n",
              "          const docLink = document.createElement('div');\n",
              "          docLink.innerHTML = docLinkHtml;\n",
              "          element.appendChild(docLink);\n",
              "        }\n",
              "      </script>\n",
              "    </div>\n",
              "  </div>\n",
              "  "
            ]
          },
          "metadata": {},
          "execution_count": 19
        }
      ]
    },
    {
      "cell_type": "code",
      "source": [
        "# for x in cos_sim:\n",
        "#   print(x.argsort()[-5:])\n",
        "#   print(x)\n",
        "#   break"
      ],
      "metadata": {
        "colab": {
          "base_uri": "https://localhost:8080/"
        },
        "id": "cpQdVbh-IRkO",
        "outputId": "fe9332c7-de80-4ff1-e312-b15fe2072d8d"
      },
      "execution_count": null,
      "outputs": [
        {
          "output_type": "stream",
          "name": "stdout",
          "text": [
            "[30 10 28 11  0]\n",
            "[1.         0.02858003 0.02014231 0.06962803 0.03599193 0.02014231\n",
            " 0.12090744 0.01707018 0.11509958 0.06635106 0.18121331 0.21749182\n",
            " 0.07973964 0.07836996 0.08288314 0.02049458 0.08289235 0.06474829\n",
            " 0.12245913 0.02868507 0.0076097  0.00566459 0.00643247 0.01684461\n",
            " 0.00537509 0.0448617  0.02376922 0.05442178 0.21273007 0.08111819\n",
            " 0.12456655 0.12022323 0.00455773 0.02511323]\n"
          ]
        }
      ]
    },
    {
      "cell_type": "code",
      "source": [
        "# data[\"Title\"].loc[[1, 33, 21, 5, 7]]"
      ],
      "metadata": {
        "colab": {
          "base_uri": "https://localhost:8080/"
        },
        "id": "0yIaCijcHQ97",
        "outputId": "49607dc4-f407-47d6-a5d6-6f8c1a0a82a8"
      },
      "execution_count": null,
      "outputs": [
        {
          "output_type": "execute_result",
          "data": {
            "text/plain": [
              "1     Assumptions of Machine Learning Algorithms\n",
              "33                   Swap Items of a Python List\n",
              "21          BIRCH Clustering in Machine Learning\n",
              "5      News Classification with Machine Learning\n",
              "7           Send Instagram Messages using Python\n",
              "Name: Title, dtype: object"
            ]
          },
          "metadata": {},
          "execution_count": 8
        }
      ]
    },
    {
      "cell_type": "markdown",
      "source": [
        "### Recommmending 4 articles for the given reader of a particular article:"
      ],
      "metadata": {
        "id": "4JwbRwtNJhZ2"
      }
    },
    {
      "cell_type": "code",
      "source": [
        "print('Recommended Articles are:')\n",
        "data[\"Recommended Articles\"][4]"
      ],
      "metadata": {
        "colab": {
          "base_uri": "https://localhost:8080/",
          "height": 70
        },
        "id": "S8qxiUx4zRaN",
        "outputId": "75adaf58-5743-4175-8524-02bbfc408280"
      },
      "execution_count": 21,
      "outputs": [
        {
          "output_type": "stream",
          "name": "stdout",
          "text": [
            "Recommended Articles are:\n"
          ]
        },
        {
          "output_type": "execute_result",
          "data": {
            "text/plain": [
              "'Assumptions of Machine Learning Algorithms, Mean Shift Clustering in Machine Learning, Language Detection with Machine Learning, Naive Bayes Algorithm in Machine Learning'"
            ],
            "application/vnd.google.colaboratory.intrinsic+json": {
              "type": "string"
            }
          },
          "metadata": {},
          "execution_count": 21
        }
      ]
    },
    {
      "cell_type": "markdown",
      "source": [
        "* To create an articles recommendation system, we need to focus on \"content\" rather than user interest.\n",
        "* For this task, we can use the concept of \"cosine similarity\" in machine learning. \n",
        "  * Cosine similarity is a method of building recommendation systems based on the content. \n",
        "  * It is used to \"find similarities\" between two different pieces of \"text\" documents."
      ],
      "metadata": {
        "id": "iGCBay8x0x4T"
      }
    }
  ]
}